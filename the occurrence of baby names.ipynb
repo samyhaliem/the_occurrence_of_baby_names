{
 "cells": [
  {
   "cell_type": "code",
   "execution_count": 2,
   "id": "687201fa",
   "metadata": {},
   "outputs": [],
   "source": [
    "## Import the library\n",
    "import pandas as pd\n",
    "import numpy  as np\n",
    "import matplotlib.pyplot as   plt\n",
    "import seaborn as sns\n",
    "import plotly.express as px\n",
    "from ydata_profiling import ProfileReport\n",
    "%matplotlib inline\n",
    "import warnings\n",
    "warnings.filterwarnings(\"ignore\")\n",
    "plt.style.use('fivethirtyeight')\n",
    "sns.set()\n",
    "\n",
    "pd.options.display.float_format = '{:,.2f}'.format\n",
    "pd.options.display.max_rows = None\n",
    "pd.options.display.max_columns = None"
   ]
  },
  {
   "cell_type": "code",
   "execution_count": 3,
   "id": "2354f151",
   "metadata": {},
   "outputs": [],
   "source": [
    "baby = pd.read_csv('https://raw.githubusercontent.com/guipsamora/pandas_exercises/master/06_Stats/US_Baby_Names/US_Baby_Names_right.csv')"
   ]
  },
  {
   "cell_type": "code",
   "execution_count": 4,
   "id": "734dadf9",
   "metadata": {},
   "outputs": [
    {
     "name": "stdout",
     "output_type": "stream",
     "text": [
      "<class 'pandas.core.frame.DataFrame'>\n",
      "RangeIndex: 1016395 entries, 0 to 1016394\n",
      "Data columns (total 7 columns):\n",
      " #   Column      Non-Null Count    Dtype \n",
      "---  ------      --------------    ----- \n",
      " 0   Unnamed: 0  1016395 non-null  int64 \n",
      " 1   Id          1016395 non-null  int64 \n",
      " 2   Name        1016395 non-null  object\n",
      " 3   Year        1016395 non-null  int64 \n",
      " 4   Gender      1016395 non-null  object\n",
      " 5   State       1016395 non-null  object\n",
      " 6   Count       1016395 non-null  int64 \n",
      "dtypes: int64(4), object(3)\n",
      "memory usage: 54.3+ MB\n"
     ]
    }
   ],
   "source": [
    "baby.info()"
   ]
  },
  {
   "cell_type": "code",
   "execution_count": 5,
   "id": "431770e1",
   "metadata": {},
   "outputs": [
    {
     "data": {
      "text/html": [
       "<div>\n",
       "<style scoped>\n",
       "    .dataframe tbody tr th:only-of-type {\n",
       "        vertical-align: middle;\n",
       "    }\n",
       "\n",
       "    .dataframe tbody tr th {\n",
       "        vertical-align: top;\n",
       "    }\n",
       "\n",
       "    .dataframe thead th {\n",
       "        text-align: right;\n",
       "    }\n",
       "</style>\n",
       "<table border=\"1\" class=\"dataframe\">\n",
       "  <thead>\n",
       "    <tr style=\"text-align: right;\">\n",
       "      <th></th>\n",
       "      <th>Unnamed: 0</th>\n",
       "      <th>Id</th>\n",
       "      <th>Name</th>\n",
       "      <th>Year</th>\n",
       "      <th>Gender</th>\n",
       "      <th>State</th>\n",
       "      <th>Count</th>\n",
       "    </tr>\n",
       "  </thead>\n",
       "  <tbody>\n",
       "    <tr>\n",
       "      <th>892918</th>\n",
       "      <td>5056522</td>\n",
       "      <td>5056523</td>\n",
       "      <td>Luis</td>\n",
       "      <td>2007</td>\n",
       "      <td>M</td>\n",
       "      <td>TX</td>\n",
       "      <td>1487</td>\n",
       "    </tr>\n",
       "    <tr>\n",
       "      <th>680509</th>\n",
       "      <td>3852676</td>\n",
       "      <td>3852677</td>\n",
       "      <td>Amani</td>\n",
       "      <td>2007</td>\n",
       "      <td>M</td>\n",
       "      <td>NY</td>\n",
       "      <td>13</td>\n",
       "    </tr>\n",
       "    <tr>\n",
       "      <th>143859</th>\n",
       "      <td>759096</td>\n",
       "      <td>759097</td>\n",
       "      <td>Mara</td>\n",
       "      <td>2008</td>\n",
       "      <td>F</td>\n",
       "      <td>CO</td>\n",
       "      <td>8</td>\n",
       "    </tr>\n",
       "    <tr>\n",
       "      <th>271677</th>\n",
       "      <td>1421934</td>\n",
       "      <td>1421935</td>\n",
       "      <td>Kailee</td>\n",
       "      <td>2005</td>\n",
       "      <td>F</td>\n",
       "      <td>IA</td>\n",
       "      <td>5</td>\n",
       "    </tr>\n",
       "    <tr>\n",
       "      <th>873235</th>\n",
       "      <td>4925270</td>\n",
       "      <td>4925271</td>\n",
       "      <td>Annalynn</td>\n",
       "      <td>2011</td>\n",
       "      <td>F</td>\n",
       "      <td>TX</td>\n",
       "      <td>9</td>\n",
       "    </tr>\n",
       "    <tr>\n",
       "      <th>110865</th>\n",
       "      <td>682042</td>\n",
       "      <td>682043</td>\n",
       "      <td>Sebastien</td>\n",
       "      <td>2005</td>\n",
       "      <td>M</td>\n",
       "      <td>CA</td>\n",
       "      <td>29</td>\n",
       "    </tr>\n",
       "    <tr>\n",
       "      <th>512940</th>\n",
       "      <td>2863621</td>\n",
       "      <td>2863622</td>\n",
       "      <td>Tanner</td>\n",
       "      <td>2004</td>\n",
       "      <td>M</td>\n",
       "      <td>MO</td>\n",
       "      <td>91</td>\n",
       "    </tr>\n",
       "    <tr>\n",
       "      <th>744812</th>\n",
       "      <td>4158846</td>\n",
       "      <td>4158847</td>\n",
       "      <td>Mace</td>\n",
       "      <td>2012</td>\n",
       "      <td>M</td>\n",
       "      <td>OK</td>\n",
       "      <td>5</td>\n",
       "    </tr>\n",
       "    <tr>\n",
       "      <th>495235</th>\n",
       "      <td>2738376</td>\n",
       "      <td>2738377</td>\n",
       "      <td>Kellen</td>\n",
       "      <td>2008</td>\n",
       "      <td>M</td>\n",
       "      <td>MN</td>\n",
       "      <td>28</td>\n",
       "    </tr>\n",
       "    <tr>\n",
       "      <th>873013</th>\n",
       "      <td>4925048</td>\n",
       "      <td>4925049</td>\n",
       "      <td>Emberly</td>\n",
       "      <td>2011</td>\n",
       "      <td>F</td>\n",
       "      <td>TX</td>\n",
       "      <td>11</td>\n",
       "    </tr>\n",
       "  </tbody>\n",
       "</table>\n",
       "</div>"
      ],
      "text/plain": [
       "        Unnamed: 0       Id       Name  Year Gender State  Count\n",
       "892918     5056522  5056523       Luis  2007      M    TX   1487\n",
       "680509     3852676  3852677      Amani  2007      M    NY     13\n",
       "143859      759096   759097       Mara  2008      F    CO      8\n",
       "271677     1421934  1421935     Kailee  2005      F    IA      5\n",
       "873235     4925270  4925271   Annalynn  2011      F    TX      9\n",
       "110865      682042   682043  Sebastien  2005      M    CA     29\n",
       "512940     2863621  2863622     Tanner  2004      M    MO     91\n",
       "744812     4158846  4158847       Mace  2012      M    OK      5\n",
       "495235     2738376  2738377     Kellen  2008      M    MN     28\n",
       "873013     4925048  4925049    Emberly  2011      F    TX     11"
      ]
     },
     "execution_count": 5,
     "metadata": {},
     "output_type": "execute_result"
    }
   ],
   "source": [
    "baby.sample(10)"
   ]
  },
  {
   "cell_type": "code",
   "execution_count": 6,
   "id": "db4c49b1",
   "metadata": {},
   "outputs": [
    {
     "data": {
      "text/plain": [
       "0"
      ]
     },
     "execution_count": 6,
     "metadata": {},
     "output_type": "execute_result"
    }
   ],
   "source": [
    "baby.duplicated().sum()"
   ]
  },
  {
   "cell_type": "markdown",
   "id": "a212cf4a",
   "metadata": {},
   "source": [
    "## See the first 10 entries."
   ]
  },
  {
   "cell_type": "code",
   "execution_count": 7,
   "id": "e87709dc",
   "metadata": {},
   "outputs": [
    {
     "data": {
      "text/html": [
       "<div>\n",
       "<style scoped>\n",
       "    .dataframe tbody tr th:only-of-type {\n",
       "        vertical-align: middle;\n",
       "    }\n",
       "\n",
       "    .dataframe tbody tr th {\n",
       "        vertical-align: top;\n",
       "    }\n",
       "\n",
       "    .dataframe thead th {\n",
       "        text-align: right;\n",
       "    }\n",
       "</style>\n",
       "<table border=\"1\" class=\"dataframe\">\n",
       "  <thead>\n",
       "    <tr style=\"text-align: right;\">\n",
       "      <th></th>\n",
       "      <th>Unnamed: 0</th>\n",
       "      <th>Id</th>\n",
       "      <th>Name</th>\n",
       "      <th>Year</th>\n",
       "      <th>Gender</th>\n",
       "      <th>State</th>\n",
       "      <th>Count</th>\n",
       "    </tr>\n",
       "  </thead>\n",
       "  <tbody>\n",
       "    <tr>\n",
       "      <th>0</th>\n",
       "      <td>11349</td>\n",
       "      <td>11350</td>\n",
       "      <td>Emma</td>\n",
       "      <td>2004</td>\n",
       "      <td>F</td>\n",
       "      <td>AK</td>\n",
       "      <td>62</td>\n",
       "    </tr>\n",
       "    <tr>\n",
       "      <th>1</th>\n",
       "      <td>11350</td>\n",
       "      <td>11351</td>\n",
       "      <td>Madison</td>\n",
       "      <td>2004</td>\n",
       "      <td>F</td>\n",
       "      <td>AK</td>\n",
       "      <td>48</td>\n",
       "    </tr>\n",
       "    <tr>\n",
       "      <th>2</th>\n",
       "      <td>11351</td>\n",
       "      <td>11352</td>\n",
       "      <td>Hannah</td>\n",
       "      <td>2004</td>\n",
       "      <td>F</td>\n",
       "      <td>AK</td>\n",
       "      <td>46</td>\n",
       "    </tr>\n",
       "    <tr>\n",
       "      <th>3</th>\n",
       "      <td>11352</td>\n",
       "      <td>11353</td>\n",
       "      <td>Grace</td>\n",
       "      <td>2004</td>\n",
       "      <td>F</td>\n",
       "      <td>AK</td>\n",
       "      <td>44</td>\n",
       "    </tr>\n",
       "    <tr>\n",
       "      <th>4</th>\n",
       "      <td>11353</td>\n",
       "      <td>11354</td>\n",
       "      <td>Emily</td>\n",
       "      <td>2004</td>\n",
       "      <td>F</td>\n",
       "      <td>AK</td>\n",
       "      <td>41</td>\n",
       "    </tr>\n",
       "    <tr>\n",
       "      <th>5</th>\n",
       "      <td>11354</td>\n",
       "      <td>11355</td>\n",
       "      <td>Abigail</td>\n",
       "      <td>2004</td>\n",
       "      <td>F</td>\n",
       "      <td>AK</td>\n",
       "      <td>37</td>\n",
       "    </tr>\n",
       "    <tr>\n",
       "      <th>6</th>\n",
       "      <td>11355</td>\n",
       "      <td>11356</td>\n",
       "      <td>Olivia</td>\n",
       "      <td>2004</td>\n",
       "      <td>F</td>\n",
       "      <td>AK</td>\n",
       "      <td>33</td>\n",
       "    </tr>\n",
       "    <tr>\n",
       "      <th>7</th>\n",
       "      <td>11356</td>\n",
       "      <td>11357</td>\n",
       "      <td>Isabella</td>\n",
       "      <td>2004</td>\n",
       "      <td>F</td>\n",
       "      <td>AK</td>\n",
       "      <td>30</td>\n",
       "    </tr>\n",
       "    <tr>\n",
       "      <th>8</th>\n",
       "      <td>11357</td>\n",
       "      <td>11358</td>\n",
       "      <td>Alyssa</td>\n",
       "      <td>2004</td>\n",
       "      <td>F</td>\n",
       "      <td>AK</td>\n",
       "      <td>29</td>\n",
       "    </tr>\n",
       "    <tr>\n",
       "      <th>9</th>\n",
       "      <td>11358</td>\n",
       "      <td>11359</td>\n",
       "      <td>Sophia</td>\n",
       "      <td>2004</td>\n",
       "      <td>F</td>\n",
       "      <td>AK</td>\n",
       "      <td>28</td>\n",
       "    </tr>\n",
       "  </tbody>\n",
       "</table>\n",
       "</div>"
      ],
      "text/plain": [
       "   Unnamed: 0     Id      Name  Year Gender State  Count\n",
       "0       11349  11350      Emma  2004      F    AK     62\n",
       "1       11350  11351   Madison  2004      F    AK     48\n",
       "2       11351  11352    Hannah  2004      F    AK     46\n",
       "3       11352  11353     Grace  2004      F    AK     44\n",
       "4       11353  11354     Emily  2004      F    AK     41\n",
       "5       11354  11355   Abigail  2004      F    AK     37\n",
       "6       11355  11356    Olivia  2004      F    AK     33\n",
       "7       11356  11357  Isabella  2004      F    AK     30\n",
       "8       11357  11358    Alyssa  2004      F    AK     29\n",
       "9       11358  11359    Sophia  2004      F    AK     28"
      ]
     },
     "execution_count": 7,
     "metadata": {},
     "output_type": "execute_result"
    }
   ],
   "source": [
    "baby.head(10)"
   ]
  },
  {
   "cell_type": "markdown",
   "id": "6846db2a",
   "metadata": {},
   "source": [
    "## Delete the columns ‘Unnamed: 0’ and ‘Id’."
   ]
  },
  {
   "cell_type": "code",
   "execution_count": 10,
   "id": "fe7d34ea",
   "metadata": {},
   "outputs": [],
   "source": [
    "baby.drop('Id',axis=1,inplace=True)"
   ]
  },
  {
   "cell_type": "code",
   "execution_count": 11,
   "id": "bc13f0d0",
   "metadata": {},
   "outputs": [],
   "source": [
    "baby.drop('Unnamed: 0',axis=1,inplace=True)"
   ]
  },
  {
   "cell_type": "code",
   "execution_count": 58,
   "id": "3a170559",
   "metadata": {},
   "outputs": [
    {
     "data": {
      "text/html": [
       "<div>\n",
       "<style scoped>\n",
       "    .dataframe tbody tr th:only-of-type {\n",
       "        vertical-align: middle;\n",
       "    }\n",
       "\n",
       "    .dataframe tbody tr th {\n",
       "        vertical-align: top;\n",
       "    }\n",
       "\n",
       "    .dataframe thead th {\n",
       "        text-align: right;\n",
       "    }\n",
       "</style>\n",
       "<table border=\"1\" class=\"dataframe\">\n",
       "  <thead>\n",
       "    <tr style=\"text-align: right;\">\n",
       "      <th></th>\n",
       "      <th>Name</th>\n",
       "      <th>Year</th>\n",
       "      <th>Gender</th>\n",
       "      <th>State</th>\n",
       "      <th>Count</th>\n",
       "    </tr>\n",
       "  </thead>\n",
       "  <tbody>\n",
       "    <tr>\n",
       "      <th>404020</th>\n",
       "      <td>Eddie</td>\n",
       "      <td>2012</td>\n",
       "      <td>M</td>\n",
       "      <td>LA</td>\n",
       "      <td>9</td>\n",
       "    </tr>\n",
       "    <tr>\n",
       "      <th>520527</th>\n",
       "      <td>Brenden</td>\n",
       "      <td>2012</td>\n",
       "      <td>M</td>\n",
       "      <td>MO</td>\n",
       "      <td>9</td>\n",
       "    </tr>\n",
       "    <tr>\n",
       "      <th>81358</th>\n",
       "      <td>Angelee</td>\n",
       "      <td>2008</td>\n",
       "      <td>F</td>\n",
       "      <td>CA</td>\n",
       "      <td>9</td>\n",
       "    </tr>\n",
       "    <tr>\n",
       "      <th>358351</th>\n",
       "      <td>Sierra</td>\n",
       "      <td>2008</td>\n",
       "      <td>F</td>\n",
       "      <td>KS</td>\n",
       "      <td>23</td>\n",
       "    </tr>\n",
       "    <tr>\n",
       "      <th>526983</th>\n",
       "      <td>Kaydence</td>\n",
       "      <td>2010</td>\n",
       "      <td>F</td>\n",
       "      <td>MS</td>\n",
       "      <td>13</td>\n",
       "    </tr>\n",
       "  </tbody>\n",
       "</table>\n",
       "</div>"
      ],
      "text/plain": [
       "            Name  Year Gender State  Count\n",
       "404020     Eddie  2012      M    LA      9\n",
       "520527   Brenden  2012      M    MO      9\n",
       "81358    Angelee  2008      F    CA      9\n",
       "358351    Sierra  2008      F    KS     23\n",
       "526983  Kaydence  2010      F    MS     13"
      ]
     },
     "execution_count": 58,
     "metadata": {},
     "output_type": "execute_result"
    }
   ],
   "source": [
    "baby.sample(5)"
   ]
  },
  {
   "cell_type": "markdown",
   "id": "458c41c6",
   "metadata": {},
   "source": [
    "## Group the dataset by name, assign to a variable called names, and sort the dataset by highest to lowest count."
   ]
  },
  {
   "cell_type": "code",
   "execution_count": 59,
   "id": "4c2958f4",
   "metadata": {
    "scrolled": false
   },
   "outputs": [
    {
     "data": {
      "text/html": [
       "<div>\n",
       "<style scoped>\n",
       "    .dataframe tbody tr th:only-of-type {\n",
       "        vertical-align: middle;\n",
       "    }\n",
       "\n",
       "    .dataframe tbody tr th {\n",
       "        vertical-align: top;\n",
       "    }\n",
       "\n",
       "    .dataframe thead th {\n",
       "        text-align: right;\n",
       "    }\n",
       "</style>\n",
       "<table border=\"1\" class=\"dataframe\">\n",
       "  <thead>\n",
       "    <tr style=\"text-align: right;\">\n",
       "      <th></th>\n",
       "      <th>Name</th>\n",
       "      <th>Count</th>\n",
       "    </tr>\n",
       "  </thead>\n",
       "  <tbody>\n",
       "    <tr>\n",
       "      <th>0</th>\n",
       "      <td>Riley</td>\n",
       "      <td>1112</td>\n",
       "    </tr>\n",
       "    <tr>\n",
       "      <th>1</th>\n",
       "      <td>Avery</td>\n",
       "      <td>1080</td>\n",
       "    </tr>\n",
       "    <tr>\n",
       "      <th>2</th>\n",
       "      <td>Jordan</td>\n",
       "      <td>1073</td>\n",
       "    </tr>\n",
       "    <tr>\n",
       "      <th>3</th>\n",
       "      <td>Peyton</td>\n",
       "      <td>1064</td>\n",
       "    </tr>\n",
       "    <tr>\n",
       "      <th>4</th>\n",
       "      <td>Hayden</td>\n",
       "      <td>1049</td>\n",
       "    </tr>\n",
       "    <tr>\n",
       "      <th>5</th>\n",
       "      <td>Taylor</td>\n",
       "      <td>1033</td>\n",
       "    </tr>\n",
       "    <tr>\n",
       "      <th>6</th>\n",
       "      <td>Jayden</td>\n",
       "      <td>1031</td>\n",
       "    </tr>\n",
       "    <tr>\n",
       "      <th>7</th>\n",
       "      <td>Alexis</td>\n",
       "      <td>984</td>\n",
       "    </tr>\n",
       "    <tr>\n",
       "      <th>8</th>\n",
       "      <td>Payton</td>\n",
       "      <td>971</td>\n",
       "    </tr>\n",
       "    <tr>\n",
       "      <th>9</th>\n",
       "      <td>Angel</td>\n",
       "      <td>962</td>\n",
       "    </tr>\n",
       "  </tbody>\n",
       "</table>\n",
       "</div>"
      ],
      "text/plain": [
       "     Name  Count\n",
       "0   Riley   1112\n",
       "1   Avery   1080\n",
       "2  Jordan   1073\n",
       "3  Peyton   1064\n",
       "4  Hayden   1049\n",
       "5  Taylor   1033\n",
       "6  Jayden   1031\n",
       "7  Alexis    984\n",
       "8  Payton    971\n",
       "9   Angel    962"
      ]
     },
     "execution_count": 59,
     "metadata": {},
     "output_type": "execute_result"
    }
   ],
   "source": [
    "names=baby.groupby('Name')['Count'].count().sort_values(ascending=False).reset_index().head(10)\n",
    "names"
   ]
  },
  {
   "cell_type": "markdown",
   "id": "47e7ecdc",
   "metadata": {},
   "source": [
    "## How many different names exist in the dataset?"
   ]
  },
  {
   "cell_type": "code",
   "execution_count": 25,
   "id": "068e6aa3",
   "metadata": {},
   "outputs": [
    {
     "data": {
      "text/plain": [
       "17632"
      ]
     },
     "execution_count": 25,
     "metadata": {},
     "output_type": "execute_result"
    }
   ],
   "source": [
    "baby.Name.nunique()"
   ]
  },
  {
   "cell_type": "markdown",
   "id": "b25b67e6",
   "metadata": {},
   "source": [
    "##  What is the name with most occurrences?"
   ]
  },
  {
   "cell_type": "code",
   "execution_count": 29,
   "id": "364c645b",
   "metadata": {},
   "outputs": [
    {
     "data": {
      "text/plain": [
       "0    Riley\n",
       "Name: Name, dtype: object"
      ]
     },
     "execution_count": 29,
     "metadata": {},
     "output_type": "execute_result"
    }
   ],
   "source": [
    "baby.Name.mode()"
   ]
  },
  {
   "cell_type": "markdown",
   "id": "186f07c1",
   "metadata": {},
   "source": [
    "## What is the standard deviation of count of names?"
   ]
  },
  {
   "cell_type": "code",
   "execution_count": 33,
   "id": "f75df8a4",
   "metadata": {},
   "outputs": [
    {
     "data": {
      "text/plain": [
       "97.39734648625934"
      ]
     },
     "execution_count": 33,
     "metadata": {},
     "output_type": "execute_result"
    }
   ],
   "source": [
    "baby.Count.std()"
   ]
  },
  {
   "cell_type": "markdown",
   "id": "18de5fac",
   "metadata": {},
   "source": [
    "## Get a summary of the dataset with the mean, min, max, std and quartiles."
   ]
  },
  {
   "cell_type": "code",
   "execution_count": 34,
   "id": "fb075001",
   "metadata": {},
   "outputs": [
    {
     "data": {
      "text/html": [
       "<div>\n",
       "<style scoped>\n",
       "    .dataframe tbody tr th:only-of-type {\n",
       "        vertical-align: middle;\n",
       "    }\n",
       "\n",
       "    .dataframe tbody tr th {\n",
       "        vertical-align: top;\n",
       "    }\n",
       "\n",
       "    .dataframe thead th {\n",
       "        text-align: right;\n",
       "    }\n",
       "</style>\n",
       "<table border=\"1\" class=\"dataframe\">\n",
       "  <thead>\n",
       "    <tr style=\"text-align: right;\">\n",
       "      <th></th>\n",
       "      <th>Year</th>\n",
       "      <th>Count</th>\n",
       "    </tr>\n",
       "  </thead>\n",
       "  <tbody>\n",
       "    <tr>\n",
       "      <th>count</th>\n",
       "      <td>1,016,395.00</td>\n",
       "      <td>1,016,395.00</td>\n",
       "    </tr>\n",
       "    <tr>\n",
       "      <th>mean</th>\n",
       "      <td>2,009.05</td>\n",
       "      <td>34.85</td>\n",
       "    </tr>\n",
       "    <tr>\n",
       "      <th>std</th>\n",
       "      <td>3.14</td>\n",
       "      <td>97.40</td>\n",
       "    </tr>\n",
       "    <tr>\n",
       "      <th>min</th>\n",
       "      <td>2,004.00</td>\n",
       "      <td>5.00</td>\n",
       "    </tr>\n",
       "    <tr>\n",
       "      <th>25%</th>\n",
       "      <td>2,006.00</td>\n",
       "      <td>7.00</td>\n",
       "    </tr>\n",
       "    <tr>\n",
       "      <th>50%</th>\n",
       "      <td>2,009.00</td>\n",
       "      <td>11.00</td>\n",
       "    </tr>\n",
       "    <tr>\n",
       "      <th>75%</th>\n",
       "      <td>2,012.00</td>\n",
       "      <td>26.00</td>\n",
       "    </tr>\n",
       "    <tr>\n",
       "      <th>max</th>\n",
       "      <td>2,014.00</td>\n",
       "      <td>4,167.00</td>\n",
       "    </tr>\n",
       "  </tbody>\n",
       "</table>\n",
       "</div>"
      ],
      "text/plain": [
       "              Year        Count\n",
       "count 1,016,395.00 1,016,395.00\n",
       "mean      2,009.05        34.85\n",
       "std           3.14        97.40\n",
       "min       2,004.00         5.00\n",
       "25%       2,006.00         7.00\n",
       "50%       2,009.00        11.00\n",
       "75%       2,012.00        26.00\n",
       "max       2,014.00     4,167.00"
      ]
     },
     "execution_count": 34,
     "metadata": {},
     "output_type": "execute_result"
    }
   ],
   "source": [
    "baby.describe()"
   ]
  }
 ],
 "metadata": {
  "kernelspec": {
   "display_name": "Python 3 (ipykernel)",
   "language": "python",
   "name": "python3"
  },
  "language_info": {
   "codemirror_mode": {
    "name": "ipython",
    "version": 3
   },
   "file_extension": ".py",
   "mimetype": "text/x-python",
   "name": "python",
   "nbconvert_exporter": "python",
   "pygments_lexer": "ipython3",
   "version": "3.10.9"
  }
 },
 "nbformat": 4,
 "nbformat_minor": 5
}
